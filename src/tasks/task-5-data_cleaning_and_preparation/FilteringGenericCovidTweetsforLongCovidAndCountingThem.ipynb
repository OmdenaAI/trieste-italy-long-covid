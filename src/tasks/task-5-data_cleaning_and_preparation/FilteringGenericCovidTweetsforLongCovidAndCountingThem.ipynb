{
 "cells": [
  {
   "cell_type": "code",
   "execution_count": 1,
   "id": "77c49154",
   "metadata": {},
   "outputs": [],
   "source": [
    "import re\n",
    "import pandas as pd\n",
    "import glob\n",
    "import os"
   ]
  },
  {
   "cell_type": "code",
   "execution_count": 34,
   "id": "33a6dfb0",
   "metadata": {},
   "outputs": [
    {
     "name": "stdout",
     "output_type": "stream",
     "text": [
      "tweets_batch_A.csv :\t 6344\n",
      "Longcovid tweets_batch_A : 23\n",
      "tweets_batch_B.csv :\t 58972\n",
      "Longcovid tweets_batch_B : 79\n",
      "tweets_batch_C.csv :\t 2937\n",
      "Longcovid tweets_batch_C : 2\n",
      "tweets_batch_D.csv :\t 56544\n",
      "Longcovid tweets_batch_D : 120\n",
      "tweets_batch_E1.csv :\t 14358\n",
      "Longcovid tweets_batch_E1 : 26\n",
      "tweets_batch_E2.csv :\t 16520\n",
      "Longcovid tweets_batch_E2 : 66\n",
      "tweets_batch_F.csv :\t 15317\n",
      "Longcovid tweets_batch_F : 61\n",
      "tweets_batch_G.csv :\t 6385\n",
      "Longcovid tweets_batch_G : 65\n",
      "Final long-covid count for all batches: 442\n"
     ]
    }
   ],
   "source": [
    "#df = pd.read_csv('tweets_batch_Italian_TBCOV_january10_sample.csv')\n",
    "#Tweets on covid from GSU repo\n",
    "files=glob.glob('tweet_batches/tweets_batch_*.csv')\n",
    "\n",
    "count_overall=0\n",
    "count_lcovid=0\n",
    "#directory name to store filtered tweet batches\n",
    "name_to_store='tweet_batches_caseinsensitive_LCov_specific/filtered_'\n",
    "#Filter long-covid tweets from each batch\n",
    "for file in files:\n",
    "    batch_name=os.path.basename(file)\n",
    "    if batch_name=='tweets_batch_B.csv':\n",
    "        df=pd.read_csv(file, sep=';') #Batch B has semicolon separator not comma\n",
    "    else:\n",
    "        df = pd.read_csv(file)\n",
    "    #String conversion needed only for Batch_E1 because of TypeError\n",
    "    if batch_name=='tweets_batch_E1.csv':\n",
    "        df['Tweet']=df['Tweet'].apply(str)\n",
    "\n",
    "    \n",
    "    #Retrieving the filename without '.csv' extension\n",
    "    batch_name_wo_ext=os.path.basename(file).split('.')[0]\n",
    "    #print(batch_name_wo_ext)\n",
    "    \n",
    "    #Print overall size of each tweet batch\n",
    "    print(batch_name,':\\t',len(df.index))\n",
    "    count_overall=count_overall+len(df.index)\n",
    "\n",
    "    #After removing generic #covidvaccine and #covid hashtags from list, adding 'long-covid' and 'longcovid'\n",
    "    '''keywords = ['Long\\ Covid','post\\ CoViD', 'sindrome', 'multisistemica', 'multiorgano', 'post-covid', 'cardiovascolari','lungo\\ termine',\n",
    "    'cronic', 'stanchezza','#LongCovid', '#CountLongCovid', '#longhaulers', '#StopRestPace','#LongCovidPhysio','Long-covid','LongCovid']'''\n",
    "    #added #longcoviditalia, removed cardiovasculari etc generic keywords\n",
    "    keywords = ['Long\\ Covid','post\\ CoViD', 'post-covid','lungo\\ termine', '#LongCovid', '#CountLongCovid', \n",
    "    '#longhaulers', '#StopRestPace','#LongCovidPhysio','Long-covid','LongCovid','#LongCovidItalia']\n",
    "    regex = re.compile(r'(?i)' + '|'.join(keywords) + r'')\n",
    "    \n",
    "    data = [index\n",
    "        for index, row  in df.iterrows()\n",
    "        if regex.search(row['Tweet'])]\n",
    "    filtered_df = df.iloc[data]\n",
    "    count_lcovid=count_lcovid+len(filtered_df.index)\n",
    "    print('Longcovid',batch_name_wo_ext,':',len(filtered_df.index))\n",
    "\n",
    "\n",
    "    filtered_df.to_csv(name_to_store+batch_name_wo_ext+'.csv')\n",
    "print('Final long-covid count for all batches:',count_lcovid)"
   ]
  }
 ],
 "metadata": {
  "kernelspec": {
   "display_name": "Python 3 (ipykernel)",
   "language": "python",
   "name": "python3"
  },
  "language_info": {
   "codemirror_mode": {
    "name": "ipython",
    "version": 3
   },
   "file_extension": ".py",
   "mimetype": "text/x-python",
   "name": "python",
   "nbconvert_exporter": "python",
   "pygments_lexer": "ipython3",
   "version": "3.8.5"
  },
  "vscode": {
   "interpreter": {
    "hash": "ad2bdc8ecc057115af97d19610ffacc2b4e99fae6737bb82f5d7fb13d2f2c186"
   }
  }
 },
 "nbformat": 4,
 "nbformat_minor": 5
}
