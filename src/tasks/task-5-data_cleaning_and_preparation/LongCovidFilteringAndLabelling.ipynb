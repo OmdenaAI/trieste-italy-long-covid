{
 "cells": [
  {
   "cell_type": "code",
   "execution_count": 2,
   "metadata": {
    "id": "cmd0p7qXmhzr"
   },
   "outputs": [],
   "source": [
    "import re\n",
    "import pandas as pd\n",
    "import numpy\n",
    "import os\n"
   ]
  },
  {
   "cell_type": "code",
   "execution_count": null,
   "metadata": {
    "colab": {
     "base_uri": "https://localhost:8080/",
     "height": 74,
     "resources": {
      "http://localhost:8080/nbextensions/google.colab/files.js": {
       "data": "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",
       "headers": [
        [
         "content-type",
         "application/javascript"
        ]
       ],
       "ok": true,
       "status": 200,
       "status_text": ""
      }
     }
    },
    "id": "LH0n7uFdpEo3",
    "outputId": "1f7eb424-5377-4954-a33d-7065465e82ac"
   },
   "outputs": [
    {
     "data": {
      "text/html": [
       "\n",
       "     <input type=\"file\" id=\"files-b0bc9768-25fa-492b-b0d1-8911d7a5fd70\" name=\"files[]\" multiple disabled\n",
       "        style=\"border:none\" />\n",
       "     <output id=\"result-b0bc9768-25fa-492b-b0d1-8911d7a5fd70\">\n",
       "      Upload widget is only available when the cell has been executed in the\n",
       "      current browser session. Please rerun this cell to enable.\n",
       "      </output>\n",
       "      <script src=\"/nbextensions/google.colab/files.js\"></script> "
      ],
      "text/plain": [
       "<IPython.core.display.HTML object>"
      ]
     },
     "metadata": {},
     "output_type": "display_data"
    },
    {
     "name": "stdout",
     "output_type": "stream",
     "text": [
      "Saving hydrated_2020-10-04_clean-dataset.csv to hydrated_2020-10-04_clean-dataset.csv\n"
     ]
    }
   ],
   "source": [
    "from google.colab import files\n",
    "uploaded = files.upload()"
   ]
  },
  {
   "cell_type": "code",
   "execution_count": null,
   "metadata": {
    "colab": {
     "base_uri": "https://localhost:8080/"
    },
    "id": "CxA88C6epMyj",
    "outputId": "845885a6-7d4c-4ca1-f15e-a86d96897b89"
   },
   "outputs": [
    {
     "name": "stdout",
     "output_type": "stream",
     "text": [
      "User uploaded file \"hydrated_2020-10-04_clean-dataset.csv\" with length 31205 bytes\n"
     ]
    }
   ],
   "source": [
    "input_filenames = []\n",
    "for fn in uploaded.keys():\n",
    "  print('User uploaded file \"{name}\" with length {length} bytes'.format(\n",
    "      name=fn, length=len(uploaded[fn])))\n",
    "  input_filenames.append(fn)"
   ]
  },
  {
   "cell_type": "code",
   "execution_count": 3,
   "metadata": {
    "colab": {
     "base_uri": "https://localhost:8080/",
     "height": 206
    },
    "id": "V1YaqvOdqPtj",
    "outputId": "edb67229-7c34-48df-c301-c15001334934"
   },
   "outputs": [
    {
     "data": {
      "text/html": [
       "<div>\n",
       "<style scoped>\n",
       "    .dataframe tbody tr th:only-of-type {\n",
       "        vertical-align: middle;\n",
       "    }\n",
       "\n",
       "    .dataframe tbody tr th {\n",
       "        vertical-align: top;\n",
       "    }\n",
       "\n",
       "    .dataframe thead th {\n",
       "        text-align: right;\n",
       "    }\n",
       "</style>\n",
       "<table border=\"1\" class=\"dataframe\">\n",
       "  <thead>\n",
       "    <tr style=\"text-align: right;\">\n",
       "      <th></th>\n",
       "      <th>Unnamed: 0</th>\n",
       "      <th>Date</th>\n",
       "      <th>User</th>\n",
       "      <th>Tweet_id</th>\n",
       "      <th>Tweet</th>\n",
       "    </tr>\n",
       "  </thead>\n",
       "  <tbody>\n",
       "    <tr>\n",
       "      <th>0</th>\n",
       "      <td>0</td>\n",
       "      <td>2021-09-05 04:03:23+00:00</td>\n",
       "      <td>ezakiclip</td>\n",
       "      <td>1434366525444612102</td>\n",
       "      <td>Mano…</td>\n",
       "    </tr>\n",
       "    <tr>\n",
       "      <th>1</th>\n",
       "      <td>1</td>\n",
       "      <td>2021-09-05 04:06:09+00:00</td>\n",
       "      <td>539th</td>\n",
       "      <td>1434367222668042240</td>\n",
       "      <td>Articolo su giornale neozelandese che parla di...</td>\n",
       "    </tr>\n",
       "    <tr>\n",
       "      <th>2</th>\n",
       "      <td>2</td>\n",
       "      <td>2021-09-05 04:11:14+00:00</td>\n",
       "      <td>CGTNOfficial</td>\n",
       "      <td>1434368501200736264</td>\n",
       "      <td>#COVID19 case in Guangzhou very similar to imp...</td>\n",
       "    </tr>\n",
       "    <tr>\n",
       "      <th>3</th>\n",
       "      <td>3</td>\n",
       "      <td>2021-09-05 04:13:44+00:00</td>\n",
       "      <td>LaraAmmendola</td>\n",
       "      <td>1434369130958925835</td>\n",
       "      <td>\"Certificato COVID digitale dell'UE: | Commiss...</td>\n",
       "    </tr>\n",
       "    <tr>\n",
       "      <th>4</th>\n",
       "      <td>4</td>\n",
       "      <td>2021-09-05 04:15:58+00:00</td>\n",
       "      <td>chilisummer</td>\n",
       "      <td>1434369693209567235</td>\n",
       "      <td>I no green pass tornano in piazza: \"in giro\" p...</td>\n",
       "    </tr>\n",
       "  </tbody>\n",
       "</table>\n",
       "</div>"
      ],
      "text/plain": [
       "   Unnamed: 0                       Date           User             Tweet_id  \\\n",
       "0           0  2021-09-05 04:03:23+00:00      ezakiclip  1434366525444612102   \n",
       "1           1  2021-09-05 04:06:09+00:00          539th  1434367222668042240   \n",
       "2           2  2021-09-05 04:11:14+00:00   CGTNOfficial  1434368501200736264   \n",
       "3           3  2021-09-05 04:13:44+00:00  LaraAmmendola  1434369130958925835   \n",
       "4           4  2021-09-05 04:15:58+00:00    chilisummer  1434369693209567235   \n",
       "\n",
       "                                               Tweet  \n",
       "0                                              Mano…  \n",
       "1  Articolo su giornale neozelandese che parla di...  \n",
       "2  #COVID19 case in Guangzhou very similar to imp...  \n",
       "3  \"Certificato COVID digitale dell'UE: | Commiss...  \n",
       "4  I no green pass tornano in piazza: \"in giro\" p...  "
      ]
     },
     "execution_count": 3,
     "metadata": {},
     "output_type": "execute_result"
    }
   ],
   "source": [
    "df = pd.read_csv(r'C:\\LongCovidData\\batch_f\\BatchF\\tweets_batch_F.csv')\n",
    "df.head()"
   ]
  },
  {
   "cell_type": "code",
   "execution_count": 18,
   "metadata": {
    "id": "bqc0d-RjmmcG"
   },
   "outputs": [],
   "source": [
    "keywords = keywords = ['Long\\ Covid'\n",
    "'post\\ CoViD',\n",
    "'sindrome',\n",
    "'multisistemica',\n",
    "'multiorgano',\n",
    "'post-covid',\n",
    "'cardiovascolari',\n",
    "'lungo\\ termine',\n",
    "'#LongCovid',\n",
    "'cronic',\n",
    "'stanchezza']\n",
    "regex = re.compile(r'(?i)' + '|'.join(keywords) + r'')\n",
    "data = [index\n",
    "        for index, row  in df.iterrows()\n",
    "        if regex.search(row['Tweet'])]\n",
    "long_covid_df = df.iloc[data]\n",
    "long_covid_df.to_csv(r'C:\\LongCovidData\\batch_f\\BatchF\\long_covid_tweets_batch_F.csv')\n",
    "inv_data = [i for i in range(df.shape[0]) if i not in data]\n",
    "no_long_covid_df = df.iloc[inv_data]\n",
    "long_covid_df.to_csv(r'C:\\LongCovidData\\batch_f\\BatchF\\no_long_covid_tweets_batch_F.csv')"
   ]
  },
  {
   "cell_type": "code",
   "execution_count": 12,
   "metadata": {},
   "outputs": [],
   "source": [
    "pd.set_option('display.max_colwidth', None)"
   ]
  },
  {
   "cell_type": "code",
   "execution_count": 22,
   "metadata": {},
   "outputs": [
    {
     "data": {
      "text/plain": [
       "(66, 5)"
      ]
     },
     "execution_count": 22,
     "metadata": {},
     "output_type": "execute_result"
    }
   ],
   "source": [
    "filtered_df.shape"
   ]
  },
  {
   "cell_type": "code",
   "execution_count": 23,
   "metadata": {
    "colab": {
     "base_uri": "https://localhost:8080/",
     "height": 206
    },
    "id": "WdaDpg5Mnm0l",
    "outputId": "068ed943-f4de-4b64-e6ed-b60a59c39305"
   },
   "outputs": [
    {
     "data": {
      "text/html": [
       "<div>\n",
       "<style scoped>\n",
       "    .dataframe tbody tr th:only-of-type {\n",
       "        vertical-align: middle;\n",
       "    }\n",
       "\n",
       "    .dataframe tbody tr th {\n",
       "        vertical-align: top;\n",
       "    }\n",
       "\n",
       "    .dataframe thead th {\n",
       "        text-align: right;\n",
       "    }\n",
       "</style>\n",
       "<table border=\"1\" class=\"dataframe\">\n",
       "  <thead>\n",
       "    <tr style=\"text-align: right;\">\n",
       "      <th></th>\n",
       "      <th>Unnamed: 0</th>\n",
       "      <th>Date</th>\n",
       "      <th>User</th>\n",
       "      <th>Tweet_id</th>\n",
       "      <th>Tweet</th>\n",
       "    </tr>\n",
       "  </thead>\n",
       "  <tbody>\n",
       "    <tr>\n",
       "      <th>150</th>\n",
       "      <td>150</td>\n",
       "      <td>2021-09-05 06:49:51+00:00</td>\n",
       "      <td>ciociana</td>\n",
       "      <td>1434408416160649216</td>\n",
       "      <td>@bearbops Ti può anche essere utile leggere questo...inquietante. Nella seconda colonna il penultimo effetto avverso la sindrome infiammatoria multisistemica è stata da qualche giorno inserita dall’EMA tra i possibili effetti avversi. Mi raccomando fremi per l’obbligo!!!</td>\n",
       "    </tr>\n",
       "    <tr>\n",
       "      <th>302</th>\n",
       "      <td>302</td>\n",
       "      <td>2021-09-05 07:59:52+00:00</td>\n",
       "      <td>InformazioneOg</td>\n",
       "      <td>1434426036985401345</td>\n",
       "      <td>Pfizer e il vaccino: possibile sindrome infiammatoria, l’Ema indaga \\n#Pfizer #vaccino #EMA  #salute\\nhttps://t.co/8FO9p0UTcP</td>\n",
       "    </tr>\n",
       "    <tr>\n",
       "      <th>334</th>\n",
       "      <td>334</td>\n",
       "      <td>2021-09-05 08:17:27+00:00</td>\n",
       "      <td>piersar62</td>\n",
       "      <td>1434430462320074758</td>\n",
       "      <td>I vaccini COVID-19 probabilmente forniranno protezione a lungo termine contro malattie gravi e la morte, gli effetti sul blocco dell'infezione sono incompleti e molto transitori. Quindi non vi è alcun vantaggio collettivo da compensare con il danno individuale ai bambini.\\n4/5</td>\n",
       "    </tr>\n",
       "    <tr>\n",
       "      <th>337</th>\n",
       "      <td>337</td>\n",
       "      <td>2021-09-05 08:19:59+00:00</td>\n",
       "      <td>docdrugztore</td>\n",
       "      <td>1434431101548830722</td>\n",
       "      <td>Chi vuole FATTI su bambini e #Covid19?\\nQuasi tutti i bambini finiranno per infettarsi se non saranno vaccinati.\\nDi quelli che si infetteranno:\\n- 1 su 14 (ma recenti studi dicono 1/7) prenderanno #LongCovid\\n- 1 su 100 sarà ricoverato\\n- 1 su 20.000 morirà.\\n#ProtectTheKids #SARSCoV2</td>\n",
       "    </tr>\n",
       "    <tr>\n",
       "      <th>343</th>\n",
       "      <td>343</td>\n",
       "      <td>2021-09-05 08:22:34+00:00</td>\n",
       "      <td>piersar62</td>\n",
       "      <td>1434431748906135555</td>\n",
       "      <td>Rischi e decessi di COVID-19 per i giovani sono minimi.\\n0,17  per 100.000 abitanti'. I rischi a lungo termine dei nuovi vaccini COVID-19 su una popolazione di milioni di bambini sono al momento sconosciuti\"...\\n\\nS. Gupta, epidemiologo\\nC. Heneghan, NHS\\nA. Giubilini, ricercatore\\n5/5</td>\n",
       "    </tr>\n",
       "    <tr>\n",
       "      <th>352</th>\n",
       "      <td>352</td>\n",
       "      <td>2021-09-05 08:27:11+00:00</td>\n",
       "      <td>Antonio_Caramia</td>\n",
       "      <td>1434432913634910214</td>\n",
       "      <td>🚨Questi i numeri relativi al #COVID19 ed ai #bambini se non si offre loro un #vaccino.\\n\\nTra i bambini che si contageranno:\\n\\n🤒 1 su 14 svilupperà #LongCovidKids\\n🏥 1 su 100 sarà ospedalizzato\\n⚰️ 1 su 20.000 morirà</td>\n",
       "    </tr>\n",
       "    <tr>\n",
       "      <th>378</th>\n",
       "      <td>378</td>\n",
       "      <td>2021-09-05 08:44:24+00:00</td>\n",
       "      <td>PapagniGrace</td>\n",
       "      <td>1434437244518117376</td>\n",
       "      <td>Questa cosa è raccapricciante e il nostro Governo senza avere idea delle conseguenze a medio o lungo termine continua con le sue restrizioni in che mondo viviamo? https://t.co/UoS17KiDc1</td>\n",
       "    </tr>\n",
       "    <tr>\n",
       "      <th>621</th>\n",
       "      <td>621</td>\n",
       "      <td>2021-09-05 11:02:53+00:00</td>\n",
       "      <td>HodajahL</td>\n",
       "      <td>1434472095212257284</td>\n",
       "      <td>In particolare, la coorte era caratterizzata da un alto tasso di comorbilità che predispongono a COVID-19 grave, tra cui ipertensione (108; 71%), diabete (73; 48%), insufficienza cardiaca congestizia (41; 27%), rene cronico. e malattie polmonari (37; 24% ciascuna), demenza</td>\n",
       "    </tr>\n",
       "    <tr>\n",
       "      <th>652</th>\n",
       "      <td>652</td>\n",
       "      <td>2021-09-05 11:19:14+00:00</td>\n",
       "      <td>tamistars</td>\n",
       "      <td>1434476211925884931</td>\n",
       "      <td>Le statistiche sul #LongCovid nei bambini sono desolanti \\n😢 https://t.co/W3uWfta58m</td>\n",
       "    </tr>\n",
       "    <tr>\n",
       "      <th>891</th>\n",
       "      <td>891</td>\n",
       "      <td>2021-09-05 13:14:13+00:00</td>\n",
       "      <td>EmmaKump</td>\n",
       "      <td>1434505148559155205</td>\n",
       "      <td>@Antonio_Caramia @docdrugztore @MauroV1968 Nulla si conosce su eventi avversi gravi a medio e lungo termine (nessuna notizia sulla genotossicità, nessuna notizia sulla carcinogenesi) del vaccino per la #COVID19 perché NON CI SONO STUDI !!</td>\n",
       "    </tr>\n",
       "  </tbody>\n",
       "</table>\n",
       "</div>"
      ],
      "text/plain": [
       "     Unnamed: 0                       Date             User  \\\n",
       "150         150  2021-09-05 06:49:51+00:00         ciociana   \n",
       "302         302  2021-09-05 07:59:52+00:00   InformazioneOg   \n",
       "334         334  2021-09-05 08:17:27+00:00        piersar62   \n",
       "337         337  2021-09-05 08:19:59+00:00     docdrugztore   \n",
       "343         343  2021-09-05 08:22:34+00:00        piersar62   \n",
       "352         352  2021-09-05 08:27:11+00:00  Antonio_Caramia   \n",
       "378         378  2021-09-05 08:44:24+00:00     PapagniGrace   \n",
       "621         621  2021-09-05 11:02:53+00:00         HodajahL   \n",
       "652         652  2021-09-05 11:19:14+00:00        tamistars   \n",
       "891         891  2021-09-05 13:14:13+00:00         EmmaKump   \n",
       "\n",
       "                Tweet_id  \\\n",
       "150  1434408416160649216   \n",
       "302  1434426036985401345   \n",
       "334  1434430462320074758   \n",
       "337  1434431101548830722   \n",
       "343  1434431748906135555   \n",
       "352  1434432913634910214   \n",
       "378  1434437244518117376   \n",
       "621  1434472095212257284   \n",
       "652  1434476211925884931   \n",
       "891  1434505148559155205   \n",
       "\n",
       "                                                                                                                                                                                                                                                                                              Tweet  \n",
       "150                 @bearbops Ti può anche essere utile leggere questo...inquietante. Nella seconda colonna il penultimo effetto avverso la sindrome infiammatoria multisistemica è stata da qualche giorno inserita dall’EMA tra i possibili effetti avversi. Mi raccomando fremi per l’obbligo!!!  \n",
       "302                                                                                                                                                                   Pfizer e il vaccino: possibile sindrome infiammatoria, l’Ema indaga \\n#Pfizer #vaccino #EMA  #salute\\nhttps://t.co/8FO9p0UTcP  \n",
       "334           I vaccini COVID-19 probabilmente forniranno protezione a lungo termine contro malattie gravi e la morte, gli effetti sul blocco dell'infezione sono incompleti e molto transitori. Quindi non vi è alcun vantaggio collettivo da compensare con il danno individuale ai bambini.\\n4/5  \n",
       "337  Chi vuole FATTI su bambini e #Covid19?\\nQuasi tutti i bambini finiranno per infettarsi se non saranno vaccinati.\\nDi quelli che si infetteranno:\\n- 1 su 14 (ma recenti studi dicono 1/7) prenderanno #LongCovid\\n- 1 su 100 sarà ricoverato\\n- 1 su 20.000 morirà.\\n#ProtectTheKids #SARSCoV2  \n",
       "343  Rischi e decessi di COVID-19 per i giovani sono minimi.\\n0,17  per 100.000 abitanti'. I rischi a lungo termine dei nuovi vaccini COVID-19 su una popolazione di milioni di bambini sono al momento sconosciuti\"...\\n\\nS. Gupta, epidemiologo\\nC. Heneghan, NHS\\nA. Giubilini, ricercatore\\n5/5  \n",
       "352                                                                       🚨Questi i numeri relativi al #COVID19 ed ai #bambini se non si offre loro un #vaccino.\\n\\nTra i bambini che si contageranno:\\n\\n🤒 1 su 14 svilupperà #LongCovidKids\\n🏥 1 su 100 sarà ospedalizzato\\n⚰️ 1 su 20.000 morirà  \n",
       "378                                                                                                      Questa cosa è raccapricciante e il nostro Governo senza avere idea delle conseguenze a medio o lungo termine continua con le sue restrizioni in che mondo viviamo? https://t.co/UoS17KiDc1  \n",
       "621               In particolare, la coorte era caratterizzata da un alto tasso di comorbilità che predispongono a COVID-19 grave, tra cui ipertensione (108; 71%), diabete (73; 48%), insufficienza cardiaca congestizia (41; 27%), rene cronico. e malattie polmonari (37; 24% ciascuna), demenza  \n",
       "652                                                                                                                                                                                                            Le statistiche sul #LongCovid nei bambini sono desolanti \\n😢 https://t.co/W3uWfta58m  \n",
       "891                                                  @Antonio_Caramia @docdrugztore @MauroV1968 Nulla si conosce su eventi avversi gravi a medio e lungo termine (nessuna notizia sulla genotossicità, nessuna notizia sulla carcinogenesi) del vaccino per la #COVID19 perché NON CI SONO STUDI !!  "
      ]
     },
     "execution_count": 23,
     "metadata": {},
     "output_type": "execute_result"
    }
   ],
   "source": [
    "filtered_df[:10]"
   ]
  },
  {
   "cell_type": "code",
   "execution_count": 87,
   "metadata": {},
   "outputs": [
    {
     "data": {
      "text/plain": [
       "Unnamed: 0                                                                                                                                                                                          11218\n",
       "Date                                                                                                                                                                            2021-08-08 17:14:31+00:00\n",
       "User                                                                                                                                                                                      autocostruttore\n",
       "Tweet_id                                                                                                                                                                              1424418759905796096\n",
       "Tweet         Un Paese con circa 500 morti diari di tumore, 350 morti per problemi cardiovascolari, 145 per inquinamento...\\n... Sequestrato per la morte di 11 decessi per Covid-19\\nQualcosa non torna.\n",
       "Name: 11218, dtype: object"
      ]
     },
     "execution_count": 87,
     "metadata": {},
     "output_type": "execute_result"
    }
   ],
   "source": [
    "long_covid_df.iloc[50]"
   ]
  },
  {
   "cell_type": "code",
   "execution_count": 97,
   "metadata": {
    "id": "m3kbclU_tIGR"
   },
   "outputs": [],
   "source": [
    "class_label = [\n",
    "    0, #0\n",
    "    0,\n",
    "    0,\n",
    "    1,\n",
    "    0,\n",
    "    1,#5\n",
    "    0,\n",
    "    0,\n",
    "    1,\n",
    "    0,\n",
    "    0,#10\n",
    "    0,\n",
    "    1,\n",
    "    0,\n",
    "    1,\n",
    "    0,#15\n",
    "    0,\n",
    "    0,\n",
    "    0,\n",
    "    0,\n",
    "    0,#20\n",
    "    0,\n",
    "    0,\n",
    "    1,\n",
    "    1,\n",
    "    0,#25\n",
    "    1,\n",
    "    0,\n",
    "    0,\n",
    "    1,\n",
    "    0, #30\n",
    "    0,\n",
    "    0,\n",
    "    0,\n",
    "    0,\n",
    "    1,#35\n",
    "    0,\n",
    "    0,\n",
    "    0,\n",
    "    0,\n",
    "    0,\n",
    "    0,\n",
    "    1,\n",
    "    0,\n",
    "    0,\n",
    "    1,\n",
    "    0,\n",
    "    0,\n",
    "    0,\n",
    "    0\n",
    "]"
   ]
  },
  {
   "cell_type": "code",
   "execution_count": 98,
   "metadata": {},
   "outputs": [],
   "source": [
    "sentiment_label = [\n",
    "    0,#0\n",
    "    0,\n",
    "    0,\n",
    "    0,\n",
    "    0,\n",
    "    0,#5\n",
    "    -1,\n",
    "    0,\n",
    "    -1,\n",
    "    -1,\n",
    "    0,#10\n",
    "    0,\n",
    "    0,\n",
    "    0,\n",
    "    0,\n",
    "    0,#15\n",
    "    0,\n",
    "    0,\n",
    "    0,\n",
    "    0,\n",
    "    0,#20\n",
    "    0,\n",
    "    0,\n",
    "    -1,\n",
    "    0,\n",
    "    0,#25\n",
    "    -1,\n",
    "    0,\n",
    "    0,\n",
    "    0,\n",
    "    1,#30\n",
    "    0,\n",
    "    0,\n",
    "    -1,\n",
    "    0,\n",
    "    0,#35\n",
    "    0,\n",
    "    0,\n",
    "    0,\n",
    "    0,\n",
    "    0,\n",
    "    0,\n",
    "    0,\n",
    "    0,\n",
    "    0,\n",
    "    0,\n",
    "    0,\n",
    "    0,\n",
    "    0,\n",
    "    0\n",
    "]"
   ]
  },
  {
   "cell_type": "code",
   "execution_count": 90,
   "metadata": {},
   "outputs": [
    {
     "data": {
      "text/plain": [
       "True"
      ]
     },
     "execution_count": 90,
     "metadata": {},
     "output_type": "execute_result"
    }
   ],
   "source": [
    "len(class_label) == len(sentiment_label)"
   ]
  },
  {
   "cell_type": "code",
   "execution_count": 94,
   "metadata": {},
   "outputs": [],
   "source": [
    "labeled_df = long_covid_df[['Tweet_id', 'Tweet']][:50]"
   ]
  },
  {
   "cell_type": "code",
   "execution_count": 95,
   "metadata": {},
   "outputs": [
    {
     "data": {
      "text/html": [
       "<div>\n",
       "<style scoped>\n",
       "    .dataframe tbody tr th:only-of-type {\n",
       "        vertical-align: middle;\n",
       "    }\n",
       "\n",
       "    .dataframe tbody tr th {\n",
       "        vertical-align: top;\n",
       "    }\n",
       "\n",
       "    .dataframe thead th {\n",
       "        text-align: right;\n",
       "    }\n",
       "</style>\n",
       "<table border=\"1\" class=\"dataframe\">\n",
       "  <thead>\n",
       "    <tr style=\"text-align: right;\">\n",
       "      <th></th>\n",
       "      <th>Tweet_id</th>\n",
       "      <th>Tweet</th>\n",
       "    </tr>\n",
       "  </thead>\n",
       "  <tbody>\n",
       "    <tr>\n",
       "      <th>150</th>\n",
       "      <td>1434408416160649216</td>\n",
       "      <td>@bearbops Ti può anche essere utile leggere questo...inquietante. Nella seconda colonna il penultimo effetto avverso la sindrome infiammatoria multisistemica è stata da qualche giorno inserita dall’EMA tra i possibili effetti avversi. Mi raccomando fremi per l’obbligo!!!</td>\n",
       "    </tr>\n",
       "    <tr>\n",
       "      <th>302</th>\n",
       "      <td>1434426036985401345</td>\n",
       "      <td>Pfizer e il vaccino: possibile sindrome infiammatoria, l’Ema indaga \\n#Pfizer #vaccino #EMA  #salute\\nhttps://t.co/8FO9p0UTcP</td>\n",
       "    </tr>\n",
       "    <tr>\n",
       "      <th>334</th>\n",
       "      <td>1434430462320074758</td>\n",
       "      <td>I vaccini COVID-19 probabilmente forniranno protezione a lungo termine contro malattie gravi e la morte, gli effetti sul blocco dell'infezione sono incompleti e molto transitori. Quindi non vi è alcun vantaggio collettivo da compensare con il danno individuale ai bambini.\\n4/5</td>\n",
       "    </tr>\n",
       "    <tr>\n",
       "      <th>337</th>\n",
       "      <td>1434431101548830722</td>\n",
       "      <td>Chi vuole FATTI su bambini e #Covid19?\\nQuasi tutti i bambini finiranno per infettarsi se non saranno vaccinati.\\nDi quelli che si infetteranno:\\n- 1 su 14 (ma recenti studi dicono 1/7) prenderanno #LongCovid\\n- 1 su 100 sarà ricoverato\\n- 1 su 20.000 morirà.\\n#ProtectTheKids #SARSCoV2</td>\n",
       "    </tr>\n",
       "    <tr>\n",
       "      <th>343</th>\n",
       "      <td>1434431748906135555</td>\n",
       "      <td>Rischi e decessi di COVID-19 per i giovani sono minimi.\\n0,17  per 100.000 abitanti'. I rischi a lungo termine dei nuovi vaccini COVID-19 su una popolazione di milioni di bambini sono al momento sconosciuti\"...\\n\\nS. Gupta, epidemiologo\\nC. Heneghan, NHS\\nA. Giubilini, ricercatore\\n5/5</td>\n",
       "    </tr>\n",
       "  </tbody>\n",
       "</table>\n",
       "</div>"
      ],
      "text/plain": [
       "                Tweet_id  \\\n",
       "150  1434408416160649216   \n",
       "302  1434426036985401345   \n",
       "334  1434430462320074758   \n",
       "337  1434431101548830722   \n",
       "343  1434431748906135555   \n",
       "\n",
       "                                                                                                                                                                                                                                                                                              Tweet  \n",
       "150                 @bearbops Ti può anche essere utile leggere questo...inquietante. Nella seconda colonna il penultimo effetto avverso la sindrome infiammatoria multisistemica è stata da qualche giorno inserita dall’EMA tra i possibili effetti avversi. Mi raccomando fremi per l’obbligo!!!  \n",
       "302                                                                                                                                                                   Pfizer e il vaccino: possibile sindrome infiammatoria, l’Ema indaga \\n#Pfizer #vaccino #EMA  #salute\\nhttps://t.co/8FO9p0UTcP  \n",
       "334           I vaccini COVID-19 probabilmente forniranno protezione a lungo termine contro malattie gravi e la morte, gli effetti sul blocco dell'infezione sono incompleti e molto transitori. Quindi non vi è alcun vantaggio collettivo da compensare con il danno individuale ai bambini.\\n4/5  \n",
       "337  Chi vuole FATTI su bambini e #Covid19?\\nQuasi tutti i bambini finiranno per infettarsi se non saranno vaccinati.\\nDi quelli che si infetteranno:\\n- 1 su 14 (ma recenti studi dicono 1/7) prenderanno #LongCovid\\n- 1 su 100 sarà ricoverato\\n- 1 su 20.000 morirà.\\n#ProtectTheKids #SARSCoV2  \n",
       "343  Rischi e decessi di COVID-19 per i giovani sono minimi.\\n0,17  per 100.000 abitanti'. I rischi a lungo termine dei nuovi vaccini COVID-19 su una popolazione di milioni di bambini sono al momento sconosciuti\"...\\n\\nS. Gupta, epidemiologo\\nC. Heneghan, NHS\\nA. Giubilini, ricercatore\\n5/5  "
      ]
     },
     "execution_count": 95,
     "metadata": {},
     "output_type": "execute_result"
    }
   ],
   "source": [
    "labeled_df.head()"
   ]
  },
  {
   "cell_type": "code",
   "execution_count": 99,
   "metadata": {},
   "outputs": [],
   "source": [
    "labeled_df['sent_label'] = sentiment_label"
   ]
  },
  {
   "cell_type": "code",
   "execution_count": 100,
   "metadata": {},
   "outputs": [],
   "source": [
    "labeled_df['class_label'] = class_label"
   ]
  },
  {
   "cell_type": "code",
   "execution_count": 101,
   "metadata": {},
   "outputs": [
    {
     "data": {
      "text/html": [
       "<div>\n",
       "<style scoped>\n",
       "    .dataframe tbody tr th:only-of-type {\n",
       "        vertical-align: middle;\n",
       "    }\n",
       "\n",
       "    .dataframe tbody tr th {\n",
       "        vertical-align: top;\n",
       "    }\n",
       "\n",
       "    .dataframe thead th {\n",
       "        text-align: right;\n",
       "    }\n",
       "</style>\n",
       "<table border=\"1\" class=\"dataframe\">\n",
       "  <thead>\n",
       "    <tr style=\"text-align: right;\">\n",
       "      <th></th>\n",
       "      <th>Tweet_id</th>\n",
       "      <th>Tweet</th>\n",
       "      <th>sent_label</th>\n",
       "      <th>class_label</th>\n",
       "    </tr>\n",
       "  </thead>\n",
       "  <tbody>\n",
       "    <tr>\n",
       "      <th>150</th>\n",
       "      <td>1434408416160649216</td>\n",
       "      <td>@bearbops Ti può anche essere utile leggere questo...inquietante. Nella seconda colonna il penultimo effetto avverso la sindrome infiammatoria multisistemica è stata da qualche giorno inserita dall’EMA tra i possibili effetti avversi. Mi raccomando fremi per l’obbligo!!!</td>\n",
       "      <td>0</td>\n",
       "      <td>0</td>\n",
       "    </tr>\n",
       "    <tr>\n",
       "      <th>302</th>\n",
       "      <td>1434426036985401345</td>\n",
       "      <td>Pfizer e il vaccino: possibile sindrome infiammatoria, l’Ema indaga \\n#Pfizer #vaccino #EMA  #salute\\nhttps://t.co/8FO9p0UTcP</td>\n",
       "      <td>0</td>\n",
       "      <td>0</td>\n",
       "    </tr>\n",
       "    <tr>\n",
       "      <th>334</th>\n",
       "      <td>1434430462320074758</td>\n",
       "      <td>I vaccini COVID-19 probabilmente forniranno protezione a lungo termine contro malattie gravi e la morte, gli effetti sul blocco dell'infezione sono incompleti e molto transitori. Quindi non vi è alcun vantaggio collettivo da compensare con il danno individuale ai bambini.\\n4/5</td>\n",
       "      <td>0</td>\n",
       "      <td>0</td>\n",
       "    </tr>\n",
       "    <tr>\n",
       "      <th>337</th>\n",
       "      <td>1434431101548830722</td>\n",
       "      <td>Chi vuole FATTI su bambini e #Covid19?\\nQuasi tutti i bambini finiranno per infettarsi se non saranno vaccinati.\\nDi quelli che si infetteranno:\\n- 1 su 14 (ma recenti studi dicono 1/7) prenderanno #LongCovid\\n- 1 su 100 sarà ricoverato\\n- 1 su 20.000 morirà.\\n#ProtectTheKids #SARSCoV2</td>\n",
       "      <td>0</td>\n",
       "      <td>1</td>\n",
       "    </tr>\n",
       "    <tr>\n",
       "      <th>343</th>\n",
       "      <td>1434431748906135555</td>\n",
       "      <td>Rischi e decessi di COVID-19 per i giovani sono minimi.\\n0,17  per 100.000 abitanti'. I rischi a lungo termine dei nuovi vaccini COVID-19 su una popolazione di milioni di bambini sono al momento sconosciuti\"...\\n\\nS. Gupta, epidemiologo\\nC. Heneghan, NHS\\nA. Giubilini, ricercatore\\n5/5</td>\n",
       "      <td>0</td>\n",
       "      <td>0</td>\n",
       "    </tr>\n",
       "  </tbody>\n",
       "</table>\n",
       "</div>"
      ],
      "text/plain": [
       "                Tweet_id  \\\n",
       "150  1434408416160649216   \n",
       "302  1434426036985401345   \n",
       "334  1434430462320074758   \n",
       "337  1434431101548830722   \n",
       "343  1434431748906135555   \n",
       "\n",
       "                                                                                                                                                                                                                                                                                              Tweet  \\\n",
       "150                 @bearbops Ti può anche essere utile leggere questo...inquietante. Nella seconda colonna il penultimo effetto avverso la sindrome infiammatoria multisistemica è stata da qualche giorno inserita dall’EMA tra i possibili effetti avversi. Mi raccomando fremi per l’obbligo!!!   \n",
       "302                                                                                                                                                                   Pfizer e il vaccino: possibile sindrome infiammatoria, l’Ema indaga \\n#Pfizer #vaccino #EMA  #salute\\nhttps://t.co/8FO9p0UTcP   \n",
       "334           I vaccini COVID-19 probabilmente forniranno protezione a lungo termine contro malattie gravi e la morte, gli effetti sul blocco dell'infezione sono incompleti e molto transitori. Quindi non vi è alcun vantaggio collettivo da compensare con il danno individuale ai bambini.\\n4/5   \n",
       "337  Chi vuole FATTI su bambini e #Covid19?\\nQuasi tutti i bambini finiranno per infettarsi se non saranno vaccinati.\\nDi quelli che si infetteranno:\\n- 1 su 14 (ma recenti studi dicono 1/7) prenderanno #LongCovid\\n- 1 su 100 sarà ricoverato\\n- 1 su 20.000 morirà.\\n#ProtectTheKids #SARSCoV2   \n",
       "343  Rischi e decessi di COVID-19 per i giovani sono minimi.\\n0,17  per 100.000 abitanti'. I rischi a lungo termine dei nuovi vaccini COVID-19 su una popolazione di milioni di bambini sono al momento sconosciuti\"...\\n\\nS. Gupta, epidemiologo\\nC. Heneghan, NHS\\nA. Giubilini, ricercatore\\n5/5   \n",
       "\n",
       "     sent_label  class_label  \n",
       "150           0            0  \n",
       "302           0            0  \n",
       "334           0            0  \n",
       "337           0            1  \n",
       "343           0            0  "
      ]
     },
     "execution_count": 101,
     "metadata": {},
     "output_type": "execute_result"
    }
   ],
   "source": [
    "labeled_df.head()"
   ]
  },
  {
   "cell_type": "code",
   "execution_count": 102,
   "metadata": {},
   "outputs": [],
   "source": [
    "long_covid_df.to_csv(r'C:\\LongCovidData\\batch_f\\BatchF\\labeled_df_batchF.csv')"
   ]
  },
  {
   "cell_type": "code",
   "execution_count": null,
   "metadata": {},
   "outputs": [],
   "source": []
  }
 ],
 "metadata": {
  "colab": {
   "collapsed_sections": [],
   "name": "Copy of LongCovidFiltering.ipynb",
   "provenance": []
  },
  "kernelspec": {
   "display_name": "Python 3 (ipykernel)",
   "language": "python",
   "name": "python3"
  },
  "language_info": {
   "codemirror_mode": {
    "name": "ipython",
    "version": 3
   },
   "file_extension": ".py",
   "mimetype": "text/x-python",
   "name": "python",
   "nbconvert_exporter": "python",
   "pygments_lexer": "ipython3",
   "version": "3.9.5"
  }
 },
 "nbformat": 4,
 "nbformat_minor": 1
}
