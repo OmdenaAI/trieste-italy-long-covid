{
  "cells": [
    {
      "cell_type": "markdown",
      "metadata": {
        "id": "view-in-github",
        "colab_type": "text"
      },
      "source": [
        "<a href=\"https://colab.research.google.com/github/OmdenaAI/trieste-italy-long-covid/blob/main/src/tasks/task-6-sentiment_analysis-text_classification-topic_modeling/XLM_T_ZeroShot.ipynb\" target=\"_parent\"><img src=\"https://colab.research.google.com/assets/colab-badge.svg\" alt=\"Open In Colab\"/></a>"
      ]
    },
    {
      "cell_type": "markdown",
      "id": "65d19c85",
      "metadata": {
        "id": "65d19c85"
      },
      "source": [
        "### test on italian"
      ]
    },
    {
      "cell_type": "code",
      "execution_count": null,
      "id": "05833b59",
      "metadata": {
        "id": "05833b59"
      },
      "outputs": [],
      "source": [
        "from transformers import AutoTokenizer, AutoModel, TFAutoModel, AutoConfig\n",
        "from transformers import AutoModelForSequenceClassification\n",
        "from transformers import TFAutoModelForSequenceClassification\n",
        "from transformers import pipeline\n",
        "import numpy as np\n",
        "from scipy.spatial.distance import cosine\n",
        "from collections import defaultdict \n",
        "import urllib\n",
        "import pandas as pd\n",
        "from scipy.special import softmax\n",
        "from sklearn.metrics import classification_report"
      ]
    },
    {
      "cell_type": "code",
      "execution_count": null,
      "id": "6c3aba5b",
      "metadata": {
        "id": "6c3aba5b",
        "outputId": "bddf04cb-e4ae-4bbc-92ba-35b55a67fe79"
      },
      "outputs": [
        {
          "data": {
            "text/html": [
              "<div>\n",
              "<style scoped>\n",
              "    .dataframe tbody tr th:only-of-type {\n",
              "        vertical-align: middle;\n",
              "    }\n",
              "\n",
              "    .dataframe tbody tr th {\n",
              "        vertical-align: top;\n",
              "    }\n",
              "\n",
              "    .dataframe thead th {\n",
              "        text-align: right;\n",
              "    }\n",
              "</style>\n",
              "<table border=\"1\" class=\"dataframe\">\n",
              "  <thead>\n",
              "    <tr style=\"text-align: right;\">\n",
              "      <th></th>\n",
              "      <th>Unnamed: 0</th>\n",
              "      <th>Date</th>\n",
              "      <th>User</th>\n",
              "      <th>Tweet_id</th>\n",
              "      <th>Tweet</th>\n",
              "    </tr>\n",
              "  </thead>\n",
              "  <tbody>\n",
              "    <tr>\n",
              "      <th>8430</th>\n",
              "      <td>8430</td>\n",
              "      <td>2021-07-25 15:46:22+00:00</td>\n",
              "      <td>Princeps____</td>\n",
              "      <td>1419323145589252104</td>\n",
              "      <td>Due sono le cose: o abbiamo dei fascisti strao...</td>\n",
              "    </tr>\n",
              "    <tr>\n",
              "      <th>13513</th>\n",
              "      <td>13513</td>\n",
              "      <td>2021-08-22 07:11:15+00:00</td>\n",
              "      <td>TommyBrain</td>\n",
              "      <td>1429340373147656193</td>\n",
              "      <td>NeuroScienze:Le ombre della pandemia da COVID-...</td>\n",
              "    </tr>\n",
              "    <tr>\n",
              "      <th>5899</th>\n",
              "      <td>5899</td>\n",
              "      <td>2021-08-01 17:34:43+00:00</td>\n",
              "      <td>infoitinterno</td>\n",
              "      <td>1421887129546903554</td>\n",
              "      <td>Covid19, “Basta dittatura”, il popolo del No a...</td>\n",
              "    </tr>\n",
              "  </tbody>\n",
              "</table>\n",
              "</div>"
            ],
            "text/plain": [
              "       Unnamed: 0                       Date           User  \\\n",
              "8430         8430  2021-07-25 15:46:22+00:00   Princeps____   \n",
              "13513       13513  2021-08-22 07:11:15+00:00     TommyBrain   \n",
              "5899         5899  2021-08-01 17:34:43+00:00  infoitinterno   \n",
              "\n",
              "                  Tweet_id                                              Tweet  \n",
              "8430   1419323145589252104  Due sono le cose: o abbiamo dei fascisti strao...  \n",
              "13513  1429340373147656193  NeuroScienze:Le ombre della pandemia da COVID-...  \n",
              "5899   1421887129546903554  Covid19, “Basta dittatura”, il popolo del No a...  "
            ]
          },
          "metadata": {},
          "output_type": "display_data"
        },
        {
          "data": {
            "text/plain": [
              "((15317, 5), None)"
            ]
          },
          "execution_count": 2,
          "metadata": {},
          "output_type": "execute_result"
        }
      ],
      "source": [
        "# Fetch dataset \n",
        "language = 'italian'\n",
        "\n",
        "df = pd.read_csv('data/tweets_batch_F.csv')\n",
        "df.shape, display(df.sample(3))"
      ]
    },
    {
      "cell_type": "code",
      "execution_count": null,
      "id": "0670bab6",
      "metadata": {
        "id": "0670bab6",
        "outputId": "f1497889-69c2-4d8f-a8c5-18f54aa5a92d"
      },
      "outputs": [
        {
          "data": {
            "text/html": [
              "<div>\n",
              "<style scoped>\n",
              "    .dataframe tbody tr th:only-of-type {\n",
              "        vertical-align: middle;\n",
              "    }\n",
              "\n",
              "    .dataframe tbody tr th {\n",
              "        vertical-align: top;\n",
              "    }\n",
              "\n",
              "    .dataframe thead th {\n",
              "        text-align: right;\n",
              "    }\n",
              "</style>\n",
              "<table border=\"1\" class=\"dataframe\">\n",
              "  <thead>\n",
              "    <tr style=\"text-align: right;\">\n",
              "      <th></th>\n",
              "      <th>Date</th>\n",
              "      <th>User</th>\n",
              "      <th>Tweet_id</th>\n",
              "      <th>Tweet</th>\n",
              "    </tr>\n",
              "  </thead>\n",
              "  <tbody>\n",
              "    <tr>\n",
              "      <th>0</th>\n",
              "      <td>2021-09-05 04:03:23+00:00</td>\n",
              "      <td>ezakiclip</td>\n",
              "      <td>1434366525444612102</td>\n",
              "      <td>Mano…</td>\n",
              "    </tr>\n",
              "    <tr>\n",
              "      <th>1</th>\n",
              "      <td>2021-09-05 04:06:09+00:00</td>\n",
              "      <td>539th</td>\n",
              "      <td>1434367222668042240</td>\n",
              "      <td>Articolo su giornale neozelandese che parla di...</td>\n",
              "    </tr>\n",
              "    <tr>\n",
              "      <th>2</th>\n",
              "      <td>2021-09-05 04:11:14+00:00</td>\n",
              "      <td>CGTNOfficial</td>\n",
              "      <td>1434368501200736264</td>\n",
              "      <td>#COVID19 case in Guangzhou very similar to imp...</td>\n",
              "    </tr>\n",
              "  </tbody>\n",
              "</table>\n",
              "</div>"
            ],
            "text/plain": [
              "                        Date          User             Tweet_id  \\\n",
              "0  2021-09-05 04:03:23+00:00     ezakiclip  1434366525444612102   \n",
              "1  2021-09-05 04:06:09+00:00         539th  1434367222668042240   \n",
              "2  2021-09-05 04:11:14+00:00  CGTNOfficial  1434368501200736264   \n",
              "\n",
              "                                               Tweet  \n",
              "0                                              Mano…  \n",
              "1  Articolo su giornale neozelandese che parla di...  \n",
              "2  #COVID19 case in Guangzhou very similar to imp...  "
            ]
          },
          "execution_count": 3,
          "metadata": {},
          "output_type": "execute_result"
        }
      ],
      "source": [
        "df.drop(columns=['Unnamed: 0'], inplace=True)\n",
        "df.head(3)"
      ]
    },
    {
      "cell_type": "code",
      "execution_count": null,
      "id": "e3fca3cb",
      "metadata": {
        "id": "e3fca3cb",
        "outputId": "0ffe29cb-f6ee-426a-da20-e41ea19f9ad2"
      },
      "outputs": [
        {
          "name": "stderr",
          "output_type": "stream",
          "text": [
            "Some weights of the model checkpoint at cardiffnlp/twitter-xlm-roberta-base were not used when initializing XLMRobertaForSequenceClassification: ['lm_head.dense.bias', 'lm_head.dense.weight', 'lm_head.decoder.bias', 'lm_head.bias', 'lm_head.layer_norm.weight', 'lm_head.layer_norm.bias', 'lm_head.decoder.weight']\n",
            "- This IS expected if you are initializing XLMRobertaForSequenceClassification from the checkpoint of a model trained on another task or with another architecture (e.g. initializing a BertForSequenceClassification model from a BertForPreTraining model).\n",
            "- This IS NOT expected if you are initializing XLMRobertaForSequenceClassification from the checkpoint of a model that you expect to be exactly identical (initializing a BertForSequenceClassification model from a BertForSequenceClassification model).\n",
            "Some weights of XLMRobertaForSequenceClassification were not initialized from the model checkpoint at cardiffnlp/twitter-xlm-roberta-base and are newly initialized: ['classifier.out_proj.weight', 'classifier.dense.bias', 'classifier.dense.weight', 'classifier.out_proj.bias']\n",
            "You should probably TRAIN this model on a down-stream task to be able to use it for predictions and inference.\n"
          ]
        }
      ],
      "source": [
        "# fetch XLM-T model\n",
        "MODEL =  \"cardiffnlp/twitter-xlm-roberta-base\"\n",
        "tokenizer = AutoTokenizer.from_pretrained(MODEL)\n",
        "config = AutoConfig.from_pretrained(MODEL)\n",
        "model = AutoModelForSequenceClassification.from_pretrained(MODEL)"
      ]
    },
    {
      "cell_type": "code",
      "execution_count": null,
      "id": "0c4a1696",
      "metadata": {
        "id": "0c4a1696"
      },
      "outputs": [],
      "source": [
        "CUDA = False\n",
        "BATCH_SIZE = 32\n",
        "\n",
        "if CUDA:\n",
        "    model = model.to('cuda')"
      ]
    },
    {
      "cell_type": "code",
      "execution_count": null,
      "id": "76b6c377",
      "metadata": {
        "id": "76b6c377"
      },
      "outputs": [],
      "source": [
        "# helper functions\n",
        "def preprocess(corpus):\n",
        "    outcorpus = []\n",
        "    for text in corpus:\n",
        "        new_text = []\n",
        "        for t in text.split(\" \"):\n",
        "            t = '@user' if t.startswith('@') and len(t) > 1 else t\n",
        "            t = 'http' if t.startswith('http') else t\n",
        "            new_text.append(t)\n",
        "        new_text = \" \".join(new_text)\n",
        "        outcorpus.append(new_text)\n",
        "    return outcorpus\n",
        "\n",
        "def predict(text, cuda):\n",
        "    text = preprocess(text)\n",
        "    encoded_input = tokenizer(text, return_tensors='pt', padding = True, truncation = True)\n",
        "    if cuda:\n",
        "        encoded_input.to('cuda')\n",
        "        output = model(**encoded_input)\n",
        "        scores = output[0].detach().cpu().numpy()\n",
        "    else:\n",
        "        output = model(**encoded_input)\n",
        "        scores = output[0].detach().numpy()\n",
        "  \n",
        "    scores = softmax(scores, axis=-1)\n",
        "    return scores"
      ]
    },
    {
      "cell_type": "code",
      "execution_count": null,
      "id": "4493235d",
      "metadata": {
        "id": "4493235d"
      },
      "outputs": [],
      "source": [
        "#df_1 = df.sample(1000)\n",
        "df_1 = df"
      ]
    },
    {
      "cell_type": "code",
      "execution_count": null,
      "id": "71246ace",
      "metadata": {
        "id": "71246ace"
      },
      "outputs": [],
      "source": [
        "df_tweet_list = df_1['Tweet'].to_list()"
      ]
    },
    {
      "cell_type": "code",
      "execution_count": null,
      "id": "0b505dbd",
      "metadata": {
        "id": "0b505dbd",
        "outputId": "220d6590-0252-441a-b846-d518646c191d"
      },
      "outputs": [
        {
          "data": {
            "text/plain": [
              "['Mano…',\n",
              " 'Articolo su giornale neozelandese che parla di Singapore e del suo attuale elevato numero di diagnosi pur con 80% di vaccinati ma per ora non troppi casi gravi. \\nhttps://t.co/1pzPZOJtaq',\n",
              " '#COVID19 case in Guangzhou very similar to imported case https://t.co/hZovey5AAv https://t.co/4NlOFVmPNF',\n",
              " '\"Certificato COVID digitale dell\\'UE: | Commissione europea\" https://t.co/kPLHF3DFfG. Trova le differenze con quello italiano ?#greenpass',\n",
              " 'I no green pass tornano in piazza: \"in giro\" per Milano per ore https://t.co/kpUUt2wAtY',\n",
              " 'Con sta #mascherina obbligatoria dormire in #treno è praticamente impossibile...Ma si fa, un piccolo sacrificio per sconfiggere sto dannato #COVID19',\n",
              " 'Solo 20 casi in Nuova Zelanda. 15 erano contatti di casi noti ( 11 conviventi).\\nSolo 6 sono stati considerati infettivi in giorni nei quali hanno avuto contatti in comunità,generando solo 6 \"location of interest\".',\n",
              " '#Vaccini anti #COVID19 in Italia, aggiornamento del 05/09/2021 ore 06:14\\nFinora sono state somministrate 79.018.787 dosi, pari al 89.6% delle 88.142.095 consegnate\\n#vaccinaItalia #coronavirus #AstraZeneca #pfizer #modernavaccine  #Covid_19 https://t.co/1zLD4axtpK',\n",
              " '#Vaccini anti #COVID19 in Italia, dosi somministrate su base quotidiana.\\nDosi somministrate il 04/09/2021 : 207.731\\nMedia mobile a 7 giorni: 268.179\\n#vaccinaItalia #coronavirus #AstraZeneca #pfizer #modernavaccine  #Covid_19 https://t.co/1QQdHklcGt',\n",
              " 'Coronavirus: si vaccina poi si contagia e ora deve pagarsi tre tamponi a settimana https://t.co/9q5EjVUVHn']"
            ]
          },
          "execution_count": 9,
          "metadata": {},
          "output_type": "execute_result"
        }
      ],
      "source": [
        "df_tweet_list[0:10]"
      ]
    },
    {
      "cell_type": "code",
      "execution_count": null,
      "id": "a875b8d6",
      "metadata": {
        "id": "a875b8d6"
      },
      "outputs": [],
      "source": [
        "from torch.utils.data import DataLoader\n",
        "\n",
        "dl = DataLoader(df_tweet_list, batch_size=BATCH_SIZE)\n",
        "all_preds = []"
      ]
    },
    {
      "cell_type": "code",
      "execution_count": null,
      "id": "ec0fbda1",
      "metadata": {
        "id": "ec0fbda1",
        "outputId": "8608216c-172f-4b46-d95d-551fd9df251a"
      },
      "outputs": [
        {
          "name": "stderr",
          "output_type": "stream",
          "text": [
            "Asking to truncate to max_length but no maximum length is provided and the model has no predefined maximum length. Default to no truncation.\n"
          ]
        },
        {
          "name": "stdout",
          "output_type": "stream",
          "text": [
            "Batch  1  of  479\n",
            "Batch  11  of  479\n",
            "Batch  21  of  479\n",
            "Batch  31  of  479\n",
            "Batch  41  of  479\n",
            "Batch  51  of  479\n",
            "Batch  61  of  479\n",
            "Batch  71  of  479\n",
            "Batch  81  of  479\n",
            "Batch  91  of  479\n",
            "Batch  101  of  479\n",
            "Batch  111  of  479\n",
            "Batch  121  of  479\n",
            "Batch  131  of  479\n",
            "Batch  141  of  479\n",
            "Batch  151  of  479\n",
            "Batch  161  of  479\n",
            "Batch  171  of  479\n",
            "Batch  181  of  479\n",
            "Batch  191  of  479\n",
            "Batch  201  of  479\n",
            "Batch  211  of  479\n",
            "Batch  221  of  479\n",
            "Batch  231  of  479\n",
            "Batch  241  of  479\n",
            "Batch  251  of  479\n",
            "Batch  261  of  479\n",
            "Batch  271  of  479\n",
            "Batch  281  of  479\n",
            "Batch  291  of  479\n",
            "Batch  301  of  479\n",
            "Batch  311  of  479\n",
            "Batch  321  of  479\n",
            "Batch  331  of  479\n",
            "Batch  341  of  479\n",
            "Batch  351  of  479\n",
            "Batch  361  of  479\n",
            "Batch  371  of  479\n",
            "Batch  381  of  479\n",
            "Batch  391  of  479\n",
            "Batch  401  of  479\n",
            "Batch  411  of  479\n",
            "Batch  421  of  479\n",
            "Batch  431  of  479\n",
            "Batch  441  of  479\n",
            "Batch  451  of  479\n",
            "Batch  461  of  479\n",
            "Batch  471  of  479\n"
          ]
        }
      ],
      "source": [
        "for idx,batch in enumerate(dl):\n",
        "    if idx % 10 == 0: print('Batch ',idx+1,' of ',len(dl))\n",
        "    text = preprocess(batch)\n",
        "    scores = predict(text, CUDA)\n",
        "    preds = np.argmax(scores, axis=-1)\n",
        "    all_preds.extend(preds)"
      ]
    },
    {
      "cell_type": "code",
      "execution_count": null,
      "id": "c23cd46d",
      "metadata": {
        "id": "c23cd46d",
        "outputId": "4cab8e3b-b581-44aa-c8c0-38180faa4ab8"
      },
      "outputs": [
        {
          "data": {
            "text/plain": [
              "15317"
            ]
          },
          "execution_count": 12,
          "metadata": {},
          "output_type": "execute_result"
        }
      ],
      "source": [
        "len(all_preds)"
      ]
    },
    {
      "cell_type": "code",
      "execution_count": null,
      "id": "6b8a92ef",
      "metadata": {
        "id": "6b8a92ef"
      },
      "outputs": [],
      "source": [
        "df_1['zero_shot_label'] = all_preds"
      ]
    },
    {
      "cell_type": "code",
      "execution_count": null,
      "id": "0c5cb753",
      "metadata": {
        "id": "0c5cb753",
        "outputId": "2d5bf131-5142-4246-bc04-92bb3398233c"
      },
      "outputs": [
        {
          "data": {
            "text/html": [
              "<div>\n",
              "<style scoped>\n",
              "    .dataframe tbody tr th:only-of-type {\n",
              "        vertical-align: middle;\n",
              "    }\n",
              "\n",
              "    .dataframe tbody tr th {\n",
              "        vertical-align: top;\n",
              "    }\n",
              "\n",
              "    .dataframe thead th {\n",
              "        text-align: right;\n",
              "    }\n",
              "</style>\n",
              "<table border=\"1\" class=\"dataframe\">\n",
              "  <thead>\n",
              "    <tr style=\"text-align: right;\">\n",
              "      <th></th>\n",
              "      <th>Date</th>\n",
              "      <th>User</th>\n",
              "      <th>Tweet_id</th>\n",
              "      <th>Tweet</th>\n",
              "      <th>zero_shot_label</th>\n",
              "    </tr>\n",
              "  </thead>\n",
              "  <tbody>\n",
              "    <tr>\n",
              "      <th>7833</th>\n",
              "      <td>2021-07-25 12:57:02+00:00</td>\n",
              "      <td>sbruffino</td>\n",
              "      <td>1419280533754949632</td>\n",
              "      <td>Momento autoreferenziale. \\nFebbraio 2021.\\n\\n...</td>\n",
              "      <td>0</td>\n",
              "    </tr>\n",
              "    <tr>\n",
              "      <th>5855</th>\n",
              "      <td>2021-08-01 17:17:21+00:00</td>\n",
              "      <td>semplicesai</td>\n",
              "      <td>1421882760080277504</td>\n",
              "      <td>Coronavirus in Irpinia, costante il numero di ...</td>\n",
              "      <td>0</td>\n",
              "    </tr>\n",
              "    <tr>\n",
              "      <th>12894</th>\n",
              "      <td>2021-08-15 17:08:29+00:00</td>\n",
              "      <td>LaLinea73167367</td>\n",
              "      <td>1426953958636011520</td>\n",
              "      <td>@MarkChierici @VincenzoDeLuca Peccato che il 9...</td>\n",
              "      <td>0</td>\n",
              "    </tr>\n",
              "    <tr>\n",
              "      <th>12999</th>\n",
              "      <td>2021-08-15 18:18:31+00:00</td>\n",
              "      <td>ElezioniUsa</td>\n",
              "      <td>1426971582690385929</td>\n",
              "      <td>Gli Stati Uniti potrebbero raggiungere quota 2...</td>\n",
              "      <td>0</td>\n",
              "    </tr>\n",
              "    <tr>\n",
              "      <th>13852</th>\n",
              "      <td>2021-08-22 10:23:50+00:00</td>\n",
              "      <td>italianelcuore3</td>\n",
              "      <td>1429388838732980231</td>\n",
              "      <td>Infermiere vaccinato con la doppia dose muore ...</td>\n",
              "      <td>0</td>\n",
              "    </tr>\n",
              "    <tr>\n",
              "      <th>8917</th>\n",
              "      <td>2021-07-25 18:19:58+00:00</td>\n",
              "      <td>mendeiev</td>\n",
              "      <td>1419361799892242433</td>\n",
              "      <td>Cercava di fare l'imprenditore è finito a fare...</td>\n",
              "      <td>0</td>\n",
              "    </tr>\n",
              "    <tr>\n",
              "      <th>3174</th>\n",
              "      <td>2021-08-29 13:52:01+00:00</td>\n",
              "      <td>zazoomblog</td>\n",
              "      <td>1431977945329963016</td>\n",
              "      <td>Coronavirus calano i positivi nel Lazio (127 a...</td>\n",
              "      <td>0</td>\n",
              "    </tr>\n",
              "    <tr>\n",
              "      <th>8267</th>\n",
              "      <td>2021-07-25 15:09:27+00:00</td>\n",
              "      <td>ApuntoM</td>\n",
              "      <td>1419313855793090560</td>\n",
              "      <td>#COVID19 dati ultime #24ore provincia di Trent...</td>\n",
              "      <td>0</td>\n",
              "    </tr>\n",
              "    <tr>\n",
              "      <th>14055</th>\n",
              "      <td>2021-08-22 12:06:40+00:00</td>\n",
              "      <td>Vvelasciavivere</td>\n",
              "      <td>1429414717743943688</td>\n",
              "      <td>Se hai la febbre, anche se si tratta di un bam...</td>\n",
              "      <td>0</td>\n",
              "    </tr>\n",
              "    <tr>\n",
              "      <th>11329</th>\n",
              "      <td>2021-08-08 18:09:41+00:00</td>\n",
              "      <td>TG24info</td>\n",
              "      <td>1424432641739272200</td>\n",
              "      <td>Regione – CORONAVIRUS: nel #Lazio 554 nuovi po...</td>\n",
              "      <td>0</td>\n",
              "    </tr>\n",
              "  </tbody>\n",
              "</table>\n",
              "</div>"
            ],
            "text/plain": [
              "                            Date             User             Tweet_id  \\\n",
              "7833   2021-07-25 12:57:02+00:00        sbruffino  1419280533754949632   \n",
              "5855   2021-08-01 17:17:21+00:00      semplicesai  1421882760080277504   \n",
              "12894  2021-08-15 17:08:29+00:00  LaLinea73167367  1426953958636011520   \n",
              "12999  2021-08-15 18:18:31+00:00      ElezioniUsa  1426971582690385929   \n",
              "13852  2021-08-22 10:23:50+00:00  italianelcuore3  1429388838732980231   \n",
              "8917   2021-07-25 18:19:58+00:00         mendeiev  1419361799892242433   \n",
              "3174   2021-08-29 13:52:01+00:00       zazoomblog  1431977945329963016   \n",
              "8267   2021-07-25 15:09:27+00:00          ApuntoM  1419313855793090560   \n",
              "14055  2021-08-22 12:06:40+00:00  Vvelasciavivere  1429414717743943688   \n",
              "11329  2021-08-08 18:09:41+00:00         TG24info  1424432641739272200   \n",
              "\n",
              "                                                   Tweet  zero_shot_label  \n",
              "7833   Momento autoreferenziale. \\nFebbraio 2021.\\n\\n...                0  \n",
              "5855   Coronavirus in Irpinia, costante il numero di ...                0  \n",
              "12894  @MarkChierici @VincenzoDeLuca Peccato che il 9...                0  \n",
              "12999  Gli Stati Uniti potrebbero raggiungere quota 2...                0  \n",
              "13852  Infermiere vaccinato con la doppia dose muore ...                0  \n",
              "8917   Cercava di fare l'imprenditore è finito a fare...                0  \n",
              "3174   Coronavirus calano i positivi nel Lazio (127 a...                0  \n",
              "8267   #COVID19 dati ultime #24ore provincia di Trent...                0  \n",
              "14055  Se hai la febbre, anche se si tratta di un bam...                0  \n",
              "11329  Regione – CORONAVIRUS: nel #Lazio 554 nuovi po...                0  "
            ]
          },
          "execution_count": 18,
          "metadata": {},
          "output_type": "execute_result"
        }
      ],
      "source": [
        "df_1.sample(10)"
      ]
    },
    {
      "cell_type": "code",
      "execution_count": null,
      "id": "9e460899",
      "metadata": {
        "id": "9e460899",
        "outputId": "1f508320-5d72-46e3-99ca-e1f957e25c52"
      },
      "outputs": [
        {
          "data": {
            "text/plain": [
              "array([0, 1])"
            ]
          },
          "execution_count": 15,
          "metadata": {},
          "output_type": "execute_result"
        }
      ],
      "source": [
        "df_1.zero_shot_label.unique()"
      ]
    },
    {
      "cell_type": "code",
      "execution_count": null,
      "id": "d6e9de0c",
      "metadata": {
        "id": "d6e9de0c"
      },
      "outputs": [],
      "source": [
        "df_1.to_csv('data/tweets_batch_F.ZS_sample_result.csv')"
      ]
    },
    {
      "cell_type": "code",
      "execution_count": null,
      "id": "93c5be8f",
      "metadata": {
        "id": "93c5be8f",
        "outputId": "541434e3-44ca-44c9-8848-567ea41f6044"
      },
      "outputs": [
        {
          "data": {
            "text/plain": [
              "0    15283\n",
              "1       34\n",
              "Name: zero_shot_label, dtype: int64"
            ]
          },
          "execution_count": 19,
          "metadata": {},
          "output_type": "execute_result"
        }
      ],
      "source": [
        "df_1['zero_shot_label'].value_counts()"
      ]
    },
    {
      "cell_type": "code",
      "execution_count": null,
      "id": "024fcd61",
      "metadata": {
        "id": "024fcd61",
        "outputId": "43c59379-b097-4462-d29d-27e8299ff32e"
      },
      "outputs": [
        {
          "data": {
            "text/plain": [
              "0    15283\n",
              "1       34\n",
              "Name: zero_shot_label, dtype: int64"
            ]
          },
          "execution_count": 24,
          "metadata": {},
          "output_type": "execute_result"
        }
      ],
      "source": [
        "df_1['zero_shot_label'].value_counts()"
      ]
    },
    {
      "cell_type": "code",
      "execution_count": null,
      "id": "5798bddf",
      "metadata": {
        "id": "5798bddf",
        "outputId": "1b01cefd-a4f1-4e5b-b06b-02acff6b773b"
      },
      "outputs": [
        {
          "data": {
            "text/html": [
              "<div>\n",
              "<style scoped>\n",
              "    .dataframe tbody tr th:only-of-type {\n",
              "        vertical-align: middle;\n",
              "    }\n",
              "\n",
              "    .dataframe tbody tr th {\n",
              "        vertical-align: top;\n",
              "    }\n",
              "\n",
              "    .dataframe thead th {\n",
              "        text-align: right;\n",
              "    }\n",
              "</style>\n",
              "<table border=\"1\" class=\"dataframe\">\n",
              "  <thead>\n",
              "    <tr style=\"text-align: right;\">\n",
              "      <th></th>\n",
              "      <th>Date</th>\n",
              "      <th>User</th>\n",
              "      <th>Tweet_id</th>\n",
              "      <th>Tweet</th>\n",
              "      <th>zero_shot_label</th>\n",
              "    </tr>\n",
              "  </thead>\n",
              "  <tbody>\n",
              "    <tr>\n",
              "      <th>2015</th>\n",
              "      <td>2021-09-05 21:18:58+00:00</td>\n",
              "      <td>_nahuelfr</td>\n",
              "      <td>1434627136384552960</td>\n",
              "      <td>Jajsjsjsjsjsjaja q hdp</td>\n",
              "      <td>1</td>\n",
              "    </tr>\n",
              "    <tr>\n",
              "      <th>2171</th>\n",
              "      <td>2021-09-06 00:01:40+00:00</td>\n",
              "      <td>alexanderjos4</td>\n",
              "      <td>1434668081821986817</td>\n",
              "      <td>Jssjsjjsjsjsjsjsjs</td>\n",
              "      <td>1</td>\n",
              "    </tr>\n",
              "    <tr>\n",
              "      <th>2176</th>\n",
              "      <td>2021-09-06 00:09:10+00:00</td>\n",
              "      <td>Faby_Nava77</td>\n",
              "      <td>1434669971624402947</td>\n",
              "      <td>Taaaannntttiiittttaaa Maaaddre 🤬</td>\n",
              "      <td>1</td>\n",
              "    </tr>\n",
              "    <tr>\n",
              "      <th>3626</th>\n",
              "      <td>2021-08-29 16:23:56+00:00</td>\n",
              "      <td>PepoPeru</td>\n",
              "      <td>1432016174770966532</td>\n",
              "      <td>Jsjajsjsbsjjajzbbsbhababshhshahshhdhsh\\n\\n❤</td>\n",
              "      <td>1</td>\n",
              "    </tr>\n",
              "    <tr>\n",
              "      <th>4198</th>\n",
              "      <td>2021-08-29 23:41:36+00:00</td>\n",
              "      <td>ROBCURF</td>\n",
              "      <td>1432126318582190080</td>\n",
              "      <td>AAAAAA ZOMBIE APOCALYPSE</td>\n",
              "      <td>1</td>\n",
              "    </tr>\n",
              "    <tr>\n",
              "      <th>6971</th>\n",
              "      <td>2021-07-25 08:01:55+00:00</td>\n",
              "      <td>yus_AtinySpirit</td>\n",
              "      <td>1419206262332350464</td>\n",
              "      <td>HAHAHHAAHAHAHAHAHAHAHAAHAHAHAHAHAHAHAAHHAHAHAHAHA</td>\n",
              "      <td>1</td>\n",
              "    </tr>\n",
              "    <tr>\n",
              "      <th>6981</th>\n",
              "      <td>2021-07-25 08:07:48+00:00</td>\n",
              "      <td>atyrasabryna</td>\n",
              "      <td>1419207744612016133</td>\n",
              "      <td>SHITBDJDJSKSKKSKSDNDBDJSB</td>\n",
              "      <td>1</td>\n",
              "    </tr>\n",
              "    <tr>\n",
              "      <th>6982</th>\n",
              "      <td>2021-07-25 08:07:53+00:00</td>\n",
              "      <td>swattaxJournal</td>\n",
              "      <td>1419207766212632578</td>\n",
              "      <td>HAHAHAHAAHHAHAAHHAHAAHAHAH</td>\n",
              "      <td>1</td>\n",
              "    </tr>\n",
              "    <tr>\n",
              "      <th>7023</th>\n",
              "      <td>2021-07-25 08:23:06+00:00</td>\n",
              "      <td>najiehaks</td>\n",
              "      <td>1419211596409098240</td>\n",
              "      <td>APA DOSAKU KDJFJSJJSJDJJSCN WHYYY</td>\n",
              "      <td>1</td>\n",
              "    </tr>\n",
              "    <tr>\n",
              "      <th>7791</th>\n",
              "      <td>2021-07-25 12:46:26+00:00</td>\n",
              "      <td>prabha_j</td>\n",
              "      <td>1419277864474750982</td>\n",
              "      <td>@narendramodi acche din</td>\n",
              "      <td>1</td>\n",
              "    </tr>\n",
              "    <tr>\n",
              "      <th>9154</th>\n",
              "      <td>2021-07-25 20:02:53+00:00</td>\n",
              "      <td>alfalinick</td>\n",
              "      <td>1419387701535588352</td>\n",
              "      <td>Hahahksjdhshshs</td>\n",
              "      <td>1</td>\n",
              "    </tr>\n",
              "    <tr>\n",
              "      <th>9755</th>\n",
              "      <td>2021-08-08 06:58:33+00:00</td>\n",
              "      <td>JeanPaulPogba</td>\n",
              "      <td>1424263746688622593</td>\n",
              "      <td>AAHAHAHAHAHHAHAHHAH</td>\n",
              "      <td>1</td>\n",
              "    </tr>\n",
              "    <tr>\n",
              "      <th>9912</th>\n",
              "      <td>2021-08-08 08:08:35+00:00</td>\n",
              "      <td>medid___</td>\n",
              "      <td>1424281371774701575</td>\n",
              "      <td>HAHAHAHHAHAHAHHAH HSJSK’D’SKSKSJSJKS j’ai hurl...</td>\n",
              "      <td>1</td>\n",
              "    </tr>\n",
              "    <tr>\n",
              "      <th>9934</th>\n",
              "      <td>2021-08-08 08:15:58+00:00</td>\n",
              "      <td>plutosaucegod_</td>\n",
              "      <td>1424283230631612418</td>\n",
              "      <td>Jskshsksjsjsjsjssj</td>\n",
              "      <td>1</td>\n",
              "    </tr>\n",
              "    <tr>\n",
              "      <th>10101</th>\n",
              "      <td>2021-08-08 09:38:03+00:00</td>\n",
              "      <td>77ROZS</td>\n",
              "      <td>1424303885632557064</td>\n",
              "      <td>HHAAHAHHAHHAHAHAHAHAHAHAAHAHAHAHAH</td>\n",
              "      <td>1</td>\n",
              "    </tr>\n",
              "    <tr>\n",
              "      <th>10222</th>\n",
              "      <td>2021-08-08 10:32:26+00:00</td>\n",
              "      <td>AmaruSai</td>\n",
              "      <td>1424317572502130692</td>\n",
              "      <td>AHAAHAHHAAHHAAHAHAHAHHAAHAHAHHAHAHAHAHAHAHAHAHA</td>\n",
              "      <td>1</td>\n",
              "    </tr>\n",
              "    <tr>\n",
              "      <th>10425</th>\n",
              "      <td>2021-08-08 12:22:58+00:00</td>\n",
              "      <td>giacomo85m</td>\n",
              "      <td>1424345388585193474</td>\n",
              "      <td>INCEPTION Covid-19 Edition</td>\n",
              "      <td>1</td>\n",
              "    </tr>\n",
              "    <tr>\n",
              "      <th>10837</th>\n",
              "      <td>2021-08-08 15:13:36+00:00</td>\n",
              "      <td>zimzalabitsh</td>\n",
              "      <td>1424388332549771267</td>\n",
              "      <td>J’AI RATE MON ANNEE HAHAHAHAHAHHSJDJDJDKDKS</td>\n",
              "      <td>1</td>\n",
              "    </tr>\n",
              "    <tr>\n",
              "      <th>10910</th>\n",
              "      <td>2021-08-08 15:38:50+00:00</td>\n",
              "      <td>Mashmattatoe</td>\n",
              "      <td>1424394678821081088</td>\n",
              "      <td>HAHAHHHAHAHHAHAHHAHHAHAHAHAHAHAHHAHAHAHAHAHHAH...</td>\n",
              "      <td>1</td>\n",
              "    </tr>\n",
              "    <tr>\n",
              "      <th>10992</th>\n",
              "      <td>2021-08-08 16:02:02+00:00</td>\n",
              "      <td>_kevinne</td>\n",
              "      <td>1424400517321592836</td>\n",
              "      <td>Marzo 2020 JSJSJDJDJDJDJDJDJJEJE</td>\n",
              "      <td>1</td>\n",
              "    </tr>\n",
              "    <tr>\n",
              "      <th>11319</th>\n",
              "      <td>2021-08-08 18:06:20+00:00</td>\n",
              "      <td>LaTotaUnchained</td>\n",
              "      <td>1424431801896931334</td>\n",
              "      <td>JAHSJSJDHSJSJSBDHSBSHSHZHZHHDHSBSBSJSHDHDVDHZJ...</td>\n",
              "      <td>1</td>\n",
              "    </tr>\n",
              "    <tr>\n",
              "      <th>11755</th>\n",
              "      <td>2021-08-08 23:44:33+00:00</td>\n",
              "      <td>leatosunian</td>\n",
              "      <td>1424516916891291653</td>\n",
              "      <td>jsjsjsjsjsjjs</td>\n",
              "      <td>1</td>\n",
              "    </tr>\n",
              "    <tr>\n",
              "      <th>11766</th>\n",
              "      <td>2021-08-09 00:00:32+00:00</td>\n",
              "      <td>marcanto_</td>\n",
              "      <td>1424520936104005637</td>\n",
              "      <td>AAHHAHAHAHAHAHAHAHHAA JE M’ÉTOUFFE OH LE FOUUU...</td>\n",
              "      <td>1</td>\n",
              "    </tr>\n",
              "    <tr>\n",
              "      <th>11804</th>\n",
              "      <td>2021-08-09 03:09:16+00:00</td>\n",
              "      <td>zoranealehurtin</td>\n",
              "      <td>1424568432738062336</td>\n",
              "      <td>L.I.V.E</td>\n",
              "      <td>1</td>\n",
              "    </tr>\n",
              "    <tr>\n",
              "      <th>12047</th>\n",
              "      <td>2021-08-15 08:26:08+00:00</td>\n",
              "      <td>cholomarvin</td>\n",
              "      <td>1426822502571933701</td>\n",
              "      <td>kdjsksksksksjak di ko na talaga alam</td>\n",
              "      <td>1</td>\n",
              "    </tr>\n",
              "    <tr>\n",
              "      <th>12055</th>\n",
              "      <td>2021-08-15 08:34:55+00:00</td>\n",
              "      <td>manjivrou_</td>\n",
              "      <td>1426824712802291719</td>\n",
              "      <td>perak wtf dkdhsjskks</td>\n",
              "      <td>1</td>\n",
              "    </tr>\n",
              "    <tr>\n",
              "      <th>14316</th>\n",
              "      <td>2021-08-22 14:11:15+00:00</td>\n",
              "      <td>selenium02</td>\n",
              "      <td>1429446068140453890</td>\n",
              "      <td>HAHAHAHAHAHHAHAHAHHAA</td>\n",
              "      <td>1</td>\n",
              "    </tr>\n",
              "    <tr>\n",
              "      <th>14599</th>\n",
              "      <td>2021-08-22 15:47:24+00:00</td>\n",
              "      <td>stevenjfrisch</td>\n",
              "      <td>1429470264753065991</td>\n",
              "      <td>@EucalyptusEater @hitchslapping @evolutionaryp...</td>\n",
              "      <td>1</td>\n",
              "    </tr>\n",
              "    <tr>\n",
              "      <th>14623</th>\n",
              "      <td>2021-08-22 15:56:05+00:00</td>\n",
              "      <td>free___way</td>\n",
              "      <td>1429472450362974219</td>\n",
              "      <td>Il fato.\\nhttps://t.co/lyxq9oxHhy</td>\n",
              "      <td>1</td>\n",
              "    </tr>\n",
              "    <tr>\n",
              "      <th>14689</th>\n",
              "      <td>2021-08-22 16:21:58+00:00</td>\n",
              "      <td>thebaldtexican</td>\n",
              "      <td>1429478964163227649</td>\n",
              "      <td>PETA, Australian style...</td>\n",
              "      <td>1</td>\n",
              "    </tr>\n",
              "    <tr>\n",
              "      <th>14833</th>\n",
              "      <td>2021-08-22 17:16:21+00:00</td>\n",
              "      <td>babexsatan</td>\n",
              "      <td>1429492653419286529</td>\n",
              "      <td>MANO SKWKEKSKJSKSKSKSKSKSK</td>\n",
              "      <td>1</td>\n",
              "    </tr>\n",
              "    <tr>\n",
              "      <th>15295</th>\n",
              "      <td>2021-08-23 01:38:01+00:00</td>\n",
              "      <td>Quijada3601H</td>\n",
              "      <td>1429618901684469760</td>\n",
              "      <td>JAHAJAHAHHAHAHAHAHAHAHAHA QUE</td>\n",
              "      <td>1</td>\n",
              "    </tr>\n",
              "    <tr>\n",
              "      <th>15302</th>\n",
              "      <td>2021-08-23 02:30:19+00:00</td>\n",
              "      <td>FifiNutter</td>\n",
              "      <td>1429632063691534338</td>\n",
              "      <td>D.E.L.U.S.I.O.N.A.L.</td>\n",
              "      <td>1</td>\n",
              "    </tr>\n",
              "    <tr>\n",
              "      <th>15304</th>\n",
              "      <td>2021-08-23 02:52:33+00:00</td>\n",
              "      <td>SolSch3</td>\n",
              "      <td>1429637658184138752</td>\n",
              "      <td>Jsjsjsjsjs io kese</td>\n",
              "      <td>1</td>\n",
              "    </tr>\n",
              "  </tbody>\n",
              "</table>\n",
              "</div>"
            ],
            "text/plain": [
              "                            Date             User             Tweet_id  \\\n",
              "2015   2021-09-05 21:18:58+00:00        _nahuelfr  1434627136384552960   \n",
              "2171   2021-09-06 00:01:40+00:00    alexanderjos4  1434668081821986817   \n",
              "2176   2021-09-06 00:09:10+00:00      Faby_Nava77  1434669971624402947   \n",
              "3626   2021-08-29 16:23:56+00:00         PepoPeru  1432016174770966532   \n",
              "4198   2021-08-29 23:41:36+00:00          ROBCURF  1432126318582190080   \n",
              "6971   2021-07-25 08:01:55+00:00  yus_AtinySpirit  1419206262332350464   \n",
              "6981   2021-07-25 08:07:48+00:00     atyrasabryna  1419207744612016133   \n",
              "6982   2021-07-25 08:07:53+00:00   swattaxJournal  1419207766212632578   \n",
              "7023   2021-07-25 08:23:06+00:00        najiehaks  1419211596409098240   \n",
              "7791   2021-07-25 12:46:26+00:00         prabha_j  1419277864474750982   \n",
              "9154   2021-07-25 20:02:53+00:00       alfalinick  1419387701535588352   \n",
              "9755   2021-08-08 06:58:33+00:00    JeanPaulPogba  1424263746688622593   \n",
              "9912   2021-08-08 08:08:35+00:00         medid___  1424281371774701575   \n",
              "9934   2021-08-08 08:15:58+00:00   plutosaucegod_  1424283230631612418   \n",
              "10101  2021-08-08 09:38:03+00:00           77ROZS  1424303885632557064   \n",
              "10222  2021-08-08 10:32:26+00:00         AmaruSai  1424317572502130692   \n",
              "10425  2021-08-08 12:22:58+00:00       giacomo85m  1424345388585193474   \n",
              "10837  2021-08-08 15:13:36+00:00     zimzalabitsh  1424388332549771267   \n",
              "10910  2021-08-08 15:38:50+00:00     Mashmattatoe  1424394678821081088   \n",
              "10992  2021-08-08 16:02:02+00:00         _kevinne  1424400517321592836   \n",
              "11319  2021-08-08 18:06:20+00:00  LaTotaUnchained  1424431801896931334   \n",
              "11755  2021-08-08 23:44:33+00:00      leatosunian  1424516916891291653   \n",
              "11766  2021-08-09 00:00:32+00:00        marcanto_  1424520936104005637   \n",
              "11804  2021-08-09 03:09:16+00:00  zoranealehurtin  1424568432738062336   \n",
              "12047  2021-08-15 08:26:08+00:00      cholomarvin  1426822502571933701   \n",
              "12055  2021-08-15 08:34:55+00:00       manjivrou_  1426824712802291719   \n",
              "14316  2021-08-22 14:11:15+00:00       selenium02  1429446068140453890   \n",
              "14599  2021-08-22 15:47:24+00:00    stevenjfrisch  1429470264753065991   \n",
              "14623  2021-08-22 15:56:05+00:00       free___way  1429472450362974219   \n",
              "14689  2021-08-22 16:21:58+00:00   thebaldtexican  1429478964163227649   \n",
              "14833  2021-08-22 17:16:21+00:00       babexsatan  1429492653419286529   \n",
              "15295  2021-08-23 01:38:01+00:00     Quijada3601H  1429618901684469760   \n",
              "15302  2021-08-23 02:30:19+00:00       FifiNutter  1429632063691534338   \n",
              "15304  2021-08-23 02:52:33+00:00          SolSch3  1429637658184138752   \n",
              "\n",
              "                                                   Tweet  zero_shot_label  \n",
              "2015                              Jajsjsjsjsjsjaja q hdp                1  \n",
              "2171                                  Jssjsjjsjsjsjsjsjs                1  \n",
              "2176                    Taaaannntttiiittttaaa Maaaddre 🤬                1  \n",
              "3626         Jsjajsjsbsjjajzbbsbhababshhshahshhdhsh\\n\\n❤                1  \n",
              "4198                            AAAAAA ZOMBIE APOCALYPSE                1  \n",
              "6971   HAHAHHAAHAHAHAHAHAHAHAAHAHAHAHAHAHAHAAHHAHAHAHAHA                1  \n",
              "6981                           SHITBDJDJSKSKKSKSDNDBDJSB                1  \n",
              "6982                          HAHAHAHAAHHAHAAHHAHAAHAHAH                1  \n",
              "7023                   APA DOSAKU KDJFJSJJSJDJJSCN WHYYY                1  \n",
              "7791                             @narendramodi acche din                1  \n",
              "9154                                     Hahahksjdhshshs                1  \n",
              "9755                                 AAHAHAHAHAHHAHAHHAH                1  \n",
              "9912   HAHAHAHHAHAHAHHAH HSJSK’D’SKSKSJSJKS j’ai hurl...                1  \n",
              "9934                                  Jskshsksjsjsjsjssj                1  \n",
              "10101                 HHAAHAHHAHHAHAHAHAHAHAHAAHAHAHAHAH                1  \n",
              "10222    AHAAHAHHAAHHAAHAHAHAHHAAHAHAHHAHAHAHAHAHAHAHAHA                1  \n",
              "10425                         INCEPTION Covid-19 Edition                1  \n",
              "10837        J’AI RATE MON ANNEE HAHAHAHAHAHHSJDJDJDKDKS                1  \n",
              "10910  HAHAHHHAHAHHAHAHHAHHAHAHAHAHAHAHHAHAHAHAHAHHAH...                1  \n",
              "10992                   Marzo 2020 JSJSJDJDJDJDJDJDJJEJE                1  \n",
              "11319  JAHSJSJDHSJSJSBDHSBSHSHZHZHHDHSBSBSJSHDHDVDHZJ...                1  \n",
              "11755                                      jsjsjsjsjsjjs                1  \n",
              "11766  AAHHAHAHAHAHAHAHAHHAA JE M’ÉTOUFFE OH LE FOUUU...                1  \n",
              "11804                                            L.I.V.E                1  \n",
              "12047               kdjsksksksksjak di ko na talaga alam                1  \n",
              "12055                               perak wtf dkdhsjskks                1  \n",
              "14316                              HAHAHAHAHAHHAHAHAHHAA                1  \n",
              "14599  @EucalyptusEater @hitchslapping @evolutionaryp...                1  \n",
              "14623                  Il fato.\\nhttps://t.co/lyxq9oxHhy                1  \n",
              "14689                          PETA, Australian style...                1  \n",
              "14833                         MANO SKWKEKSKJSKSKSKSKSKSK                1  \n",
              "15295                      JAHAJAHAHHAHAHAHAHAHAHAHA QUE                1  \n",
              "15302                               D.E.L.U.S.I.O.N.A.L.                1  \n",
              "15304                                 Jsjsjsjsjs io kese                1  "
            ]
          },
          "execution_count": 25,
          "metadata": {},
          "output_type": "execute_result"
        }
      ],
      "source": [
        "df_1[df_1.zero_shot_label == 1]"
      ]
    },
    {
      "cell_type": "code",
      "execution_count": null,
      "id": "be5a6580",
      "metadata": {
        "id": "be5a6580"
      },
      "outputs": [],
      "source": [
        ""
      ]
    }
  ],
  "metadata": {
    "kernelspec": {
      "display_name": "Python 3 (ipykernel)",
      "language": "python",
      "name": "python3"
    },
    "language_info": {
      "codemirror_mode": {
        "name": "ipython",
        "version": 3
      },
      "file_extension": ".py",
      "mimetype": "text/x-python",
      "name": "python",
      "nbconvert_exporter": "python",
      "pygments_lexer": "ipython3",
      "version": "3.9.7"
    },
    "colab": {
      "name": "XLM-T_ZeroShot.ipynb",
      "provenance": [],
      "include_colab_link": true
    }
  },
  "nbformat": 4,
  "nbformat_minor": 5
}